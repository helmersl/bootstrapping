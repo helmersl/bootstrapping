{
 "cells": [
  {
   "cell_type": "code",
   "execution_count": 1,
   "metadata": {},
   "outputs": [],
   "source": [
    "from sklearn.utils import resample\n",
    "import numpy as np\n",
    "import pandas as pd\n",
    "import matplotlib.pyplot as plt\n",
    "import seaborn as sns"
   ]
  },
  {
   "cell_type": "code",
   "execution_count": 2,
   "metadata": {},
   "outputs": [
    {
     "name": "stdout",
     "output_type": "stream",
     "text": [
      "dict_keys(['data', 'target', 'target_names', 'DESCR', 'feature_names'])\n"
     ]
    }
   ],
   "source": [
    "from sklearn.datasets import load_wine\n",
    "wine_data = load_wine()\n",
    "print(wine_data.keys())\n",
    "#data.target[[10, 80, 140]]\n",
    "#array([0, 1, 2])\n",
    "#>>> list(data.target_names)\n",
    "#['class_0', 'class_1', 'class_2']"
   ]
  },
  {
   "cell_type": "code",
   "execution_count": 3,
   "metadata": {},
   "outputs": [],
   "source": [
    "import warnings\n",
    "warnings.filterwarnings(\"ignore\")"
   ]
  },
  {
   "cell_type": "code",
   "execution_count": 4,
   "metadata": {},
   "outputs": [],
   "source": [
    "from sklearn.naive_bayes import GaussianNB"
   ]
  },
  {
   "cell_type": "code",
   "execution_count": 5,
   "metadata": {},
   "outputs": [],
   "source": [
    "from sklearn.metrics import precision_score, recall_score, roc_auc_score"
   ]
  },
  {
   "cell_type": "code",
   "execution_count": 6,
   "metadata": {},
   "outputs": [],
   "source": [
    "gnb = GaussianNB()"
   ]
  },
  {
   "cell_type": "code",
   "execution_count": 7,
   "metadata": {},
   "outputs": [
    {
     "name": "stdout",
     "output_type": "stream",
     "text": [
      "['alcohol', 'malic_acid', 'ash', 'alcalinity_of_ash', 'magnesium', 'total_phenols', 'flavanoids', 'nonflavanoid_phenols', 'proanthocyanins', 'color_intensity', 'hue', 'od280/od315_of_diluted_wines', 'proline']\n"
     ]
    }
   ],
   "source": [
    "print(wine_data['feature_names'])"
   ]
  },
  {
   "cell_type": "code",
   "execution_count": 140,
   "metadata": {},
   "outputs": [],
   "source": [
    "X = wine_data['data'][:,0:5]"
   ]
  },
  {
   "cell_type": "code",
   "execution_count": 83,
   "metadata": {},
   "outputs": [],
   "source": [
    "y = (wine_data['target'] == 1).astype(int)"
   ]
  },
  {
   "cell_type": "code",
   "execution_count": null,
   "metadata": {},
   "outputs": [],
   "source": []
  },
  {
   "cell_type": "code",
   "execution_count": 141,
   "metadata": {},
   "outputs": [
    {
     "data": {
      "text/plain": [
       "(178, 5)"
      ]
     },
     "execution_count": 141,
     "metadata": {},
     "output_type": "execute_result"
    }
   ],
   "source": [
    "X.shape"
   ]
  },
  {
   "cell_type": "code",
   "execution_count": 85,
   "metadata": {},
   "outputs": [],
   "source": [
    "from collections import Counter"
   ]
  },
  {
   "cell_type": "code",
   "execution_count": 136,
   "metadata": {},
   "outputs": [
    {
     "data": {
      "text/plain": [
       "Counter({0: 59, 1: 71, 2: 48})"
      ]
     },
     "execution_count": 136,
     "metadata": {},
     "output_type": "execute_result"
    }
   ],
   "source": [
    "Counter(wine_data['target'])"
   ]
  },
  {
   "cell_type": "code",
   "execution_count": 86,
   "metadata": {},
   "outputs": [
    {
     "data": {
      "text/plain": [
       "Counter({0: 107, 1: 71})"
      ]
     },
     "execution_count": 86,
     "metadata": {},
     "output_type": "execute_result"
    }
   ],
   "source": [
    "Counter(y)"
   ]
  },
  {
   "cell_type": "code",
   "execution_count": 92,
   "metadata": {},
   "outputs": [
    {
     "data": {
      "text/plain": [
       "0.6635514018691588"
      ]
     },
     "execution_count": 92,
     "metadata": {},
     "output_type": "execute_result"
    }
   ],
   "source": [
    "71/107."
   ]
  },
  {
   "cell_type": "markdown",
   "metadata": {},
   "source": [
    "### Bootstrapping"
   ]
  },
  {
   "cell_type": "markdown",
   "metadata": {},
   "source": [
    "##### Run bootstrapping 1000 times"
   ]
  },
  {
   "cell_type": "code",
   "execution_count": 87,
   "metadata": {},
   "outputs": [],
   "source": [
    "sample_size=1000"
   ]
  },
  {
   "cell_type": "markdown",
   "metadata": {},
   "source": [
    "##### Get 1000 train sets"
   ]
  },
  {
   "cell_type": "code",
   "execution_count": null,
   "metadata": {},
   "outputs": [],
   "source": []
  },
  {
   "cell_type": "code",
   "execution_count": 142,
   "metadata": {},
   "outputs": [],
   "source": [
    "train_idx = [np.random.randint(0, X.shape[0], size=X.shape[0]) for i in range(sample_size)]"
   ]
  },
  {
   "cell_type": "markdown",
   "metadata": {},
   "source": [
    "##### Get 1000 out-of-bag (i.e. not contained in training set) samples to calculate error metrics"
   ]
  },
  {
   "cell_type": "code",
   "execution_count": 143,
   "metadata": {},
   "outputs": [],
   "source": [
    "oob_idx = [list(set(range(X.shape[0])) - set(train_idx[i])) for i in range(sample_size)]"
   ]
  },
  {
   "cell_type": "code",
   "execution_count": 147,
   "metadata": {},
   "outputs": [
    {
     "data": {
      "text/plain": [
       "(178, 5)"
      ]
     },
     "execution_count": 147,
     "metadata": {},
     "output_type": "execute_result"
    }
   ],
   "source": [
    "X.shape"
   ]
  },
  {
   "cell_type": "markdown",
   "metadata": {},
   "source": [
    "#### Perform bootstrapping\n",
    "##### For each of the train/oob-split\n",
    "* train and predict\n",
    "* calculate precision and recall for different thresholds\n",
    "* save precision and recall per threshold for all 1000 runs"
   ]
  },
  {
   "cell_type": "code",
   "execution_count": 144,
   "metadata": {},
   "outputs": [],
   "source": [
    "preds=[]\n",
    "trues=[]\n",
    "precs=[]\n",
    "recs=[]\n",
    "for train_inds, test_inds in zip(train_idx, oob_idx):\n",
    "    gnb.fit(X[train_inds,:], y[train_inds])\n",
    "    pred = gnb.predict_proba(X[test_inds,:])[:,1]\n",
    "    true = y[test_inds]\n",
    "    preds.append(pred)\n",
    "    trues.append(true)\n",
    "    recs_temp=[]\n",
    "    precs_temp=[]\n",
    "    #for each threshold, calculate precision and recall and then append to a final list\n",
    "    for thresh in np.linspace(0,1,100):\n",
    "        precs_temp.append(precision_score(true, (pred>=thresh).astype(int)))\n",
    "        recs_temp.append(recall_score(true, (pred>=thresh).astype(int)))\n",
    "    precs.append(precs_temp)\n",
    "    recs.append(recs_temp)"
   ]
  },
  {
   "cell_type": "code",
   "execution_count": 145,
   "metadata": {},
   "outputs": [],
   "source": [
    "stats_prec = pd.DataFrame(precs).T"
   ]
  },
  {
   "cell_type": "code",
   "execution_count": 148,
   "metadata": {},
   "outputs": [
    {
     "data": {
      "text/html": [
       "<div>\n",
       "<style scoped>\n",
       "    .dataframe tbody tr th:only-of-type {\n",
       "        vertical-align: middle;\n",
       "    }\n",
       "\n",
       "    .dataframe tbody tr th {\n",
       "        vertical-align: top;\n",
       "    }\n",
       "\n",
       "    .dataframe thead th {\n",
       "        text-align: right;\n",
       "    }\n",
       "</style>\n",
       "<table border=\"1\" class=\"dataframe\">\n",
       "  <thead>\n",
       "    <tr style=\"text-align: right;\">\n",
       "      <th></th>\n",
       "      <th>0</th>\n",
       "      <th>1</th>\n",
       "      <th>2</th>\n",
       "      <th>3</th>\n",
       "      <th>4</th>\n",
       "      <th>5</th>\n",
       "      <th>6</th>\n",
       "      <th>7</th>\n",
       "      <th>8</th>\n",
       "      <th>9</th>\n",
       "      <th>...</th>\n",
       "      <th>990</th>\n",
       "      <th>991</th>\n",
       "      <th>992</th>\n",
       "      <th>993</th>\n",
       "      <th>994</th>\n",
       "      <th>995</th>\n",
       "      <th>996</th>\n",
       "      <th>997</th>\n",
       "      <th>998</th>\n",
       "      <th>999</th>\n",
       "    </tr>\n",
       "  </thead>\n",
       "  <tbody>\n",
       "    <tr>\n",
       "      <th>0</th>\n",
       "      <td>0.338235</td>\n",
       "      <td>0.476190</td>\n",
       "      <td>0.417910</td>\n",
       "      <td>0.500000</td>\n",
       "      <td>0.415385</td>\n",
       "      <td>0.290323</td>\n",
       "      <td>0.397059</td>\n",
       "      <td>0.350000</td>\n",
       "      <td>0.396825</td>\n",
       "      <td>0.411765</td>\n",
       "      <td>...</td>\n",
       "      <td>0.372881</td>\n",
       "      <td>0.378788</td>\n",
       "      <td>0.446154</td>\n",
       "      <td>0.322034</td>\n",
       "      <td>0.385714</td>\n",
       "      <td>0.375000</td>\n",
       "      <td>0.378788</td>\n",
       "      <td>0.353846</td>\n",
       "      <td>0.507692</td>\n",
       "      <td>0.430769</td>\n",
       "    </tr>\n",
       "    <tr>\n",
       "      <th>1</th>\n",
       "      <td>0.377049</td>\n",
       "      <td>0.600000</td>\n",
       "      <td>0.622222</td>\n",
       "      <td>0.763158</td>\n",
       "      <td>0.600000</td>\n",
       "      <td>0.425000</td>\n",
       "      <td>0.520000</td>\n",
       "      <td>0.552632</td>\n",
       "      <td>0.471698</td>\n",
       "      <td>0.574468</td>\n",
       "      <td>...</td>\n",
       "      <td>0.567568</td>\n",
       "      <td>0.500000</td>\n",
       "      <td>0.547170</td>\n",
       "      <td>0.422222</td>\n",
       "      <td>0.456140</td>\n",
       "      <td>0.605263</td>\n",
       "      <td>0.500000</td>\n",
       "      <td>0.403509</td>\n",
       "      <td>0.704545</td>\n",
       "      <td>0.518519</td>\n",
       "    </tr>\n",
       "    <tr>\n",
       "      <th>2</th>\n",
       "      <td>0.425926</td>\n",
       "      <td>0.612245</td>\n",
       "      <td>0.642857</td>\n",
       "      <td>0.777778</td>\n",
       "      <td>0.600000</td>\n",
       "      <td>0.444444</td>\n",
       "      <td>0.568182</td>\n",
       "      <td>0.606061</td>\n",
       "      <td>0.555556</td>\n",
       "      <td>0.613636</td>\n",
       "      <td>...</td>\n",
       "      <td>0.583333</td>\n",
       "      <td>0.534884</td>\n",
       "      <td>0.568627</td>\n",
       "      <td>0.463415</td>\n",
       "      <td>0.500000</td>\n",
       "      <td>0.638889</td>\n",
       "      <td>0.555556</td>\n",
       "      <td>0.433962</td>\n",
       "      <td>0.720930</td>\n",
       "      <td>0.583333</td>\n",
       "    </tr>\n",
       "    <tr>\n",
       "      <th>3</th>\n",
       "      <td>0.450980</td>\n",
       "      <td>0.625000</td>\n",
       "      <td>0.692308</td>\n",
       "      <td>0.777778</td>\n",
       "      <td>0.642857</td>\n",
       "      <td>0.457143</td>\n",
       "      <td>0.609756</td>\n",
       "      <td>0.606061</td>\n",
       "      <td>0.581395</td>\n",
       "      <td>0.658537</td>\n",
       "      <td>...</td>\n",
       "      <td>0.600000</td>\n",
       "      <td>0.550000</td>\n",
       "      <td>0.580000</td>\n",
       "      <td>0.475000</td>\n",
       "      <td>0.520000</td>\n",
       "      <td>0.657143</td>\n",
       "      <td>0.581395</td>\n",
       "      <td>0.450980</td>\n",
       "      <td>0.738095</td>\n",
       "      <td>0.595745</td>\n",
       "    </tr>\n",
       "    <tr>\n",
       "      <th>4</th>\n",
       "      <td>0.500000</td>\n",
       "      <td>0.638298</td>\n",
       "      <td>0.692308</td>\n",
       "      <td>0.771429</td>\n",
       "      <td>0.675000</td>\n",
       "      <td>0.483871</td>\n",
       "      <td>0.657895</td>\n",
       "      <td>0.689655</td>\n",
       "      <td>0.625000</td>\n",
       "      <td>0.675000</td>\n",
       "      <td>...</td>\n",
       "      <td>0.606061</td>\n",
       "      <td>0.594595</td>\n",
       "      <td>0.644444</td>\n",
       "      <td>0.513514</td>\n",
       "      <td>0.541667</td>\n",
       "      <td>0.657143</td>\n",
       "      <td>0.615385</td>\n",
       "      <td>0.489362</td>\n",
       "      <td>0.738095</td>\n",
       "      <td>0.595745</td>\n",
       "    </tr>\n",
       "  </tbody>\n",
       "</table>\n",
       "<p>5 rows × 1000 columns</p>\n",
       "</div>"
      ],
      "text/plain": [
       "        0         1         2         3         4         5         6    \\\n",
       "0  0.338235  0.476190  0.417910  0.500000  0.415385  0.290323  0.397059   \n",
       "1  0.377049  0.600000  0.622222  0.763158  0.600000  0.425000  0.520000   \n",
       "2  0.425926  0.612245  0.642857  0.777778  0.600000  0.444444  0.568182   \n",
       "3  0.450980  0.625000  0.692308  0.777778  0.642857  0.457143  0.609756   \n",
       "4  0.500000  0.638298  0.692308  0.771429  0.675000  0.483871  0.657895   \n",
       "\n",
       "        7         8         9      ...          990       991       992  \\\n",
       "0  0.350000  0.396825  0.411765    ...     0.372881  0.378788  0.446154   \n",
       "1  0.552632  0.471698  0.574468    ...     0.567568  0.500000  0.547170   \n",
       "2  0.606061  0.555556  0.613636    ...     0.583333  0.534884  0.568627   \n",
       "3  0.606061  0.581395  0.658537    ...     0.600000  0.550000  0.580000   \n",
       "4  0.689655  0.625000  0.675000    ...     0.606061  0.594595  0.644444   \n",
       "\n",
       "        993       994       995       996       997       998       999  \n",
       "0  0.322034  0.385714  0.375000  0.378788  0.353846  0.507692  0.430769  \n",
       "1  0.422222  0.456140  0.605263  0.500000  0.403509  0.704545  0.518519  \n",
       "2  0.463415  0.500000  0.638889  0.555556  0.433962  0.720930  0.583333  \n",
       "3  0.475000  0.520000  0.657143  0.581395  0.450980  0.738095  0.595745  \n",
       "4  0.513514  0.541667  0.657143  0.615385  0.489362  0.738095  0.595745  \n",
       "\n",
       "[5 rows x 1000 columns]"
      ]
     },
     "execution_count": 148,
     "metadata": {},
     "output_type": "execute_result"
    }
   ],
   "source": [
    "stats_prec.head()"
   ]
  },
  {
   "cell_type": "code",
   "execution_count": 149,
   "metadata": {},
   "outputs": [
    {
     "data": {
      "text/html": [
       "<div>\n",
       "<style scoped>\n",
       "    .dataframe tbody tr th:only-of-type {\n",
       "        vertical-align: middle;\n",
       "    }\n",
       "\n",
       "    .dataframe tbody tr th {\n",
       "        vertical-align: top;\n",
       "    }\n",
       "\n",
       "    .dataframe thead th {\n",
       "        text-align: right;\n",
       "    }\n",
       "</style>\n",
       "<table border=\"1\" class=\"dataframe\">\n",
       "  <thead>\n",
       "    <tr style=\"text-align: right;\">\n",
       "      <th></th>\n",
       "      <th>0</th>\n",
       "      <th>1</th>\n",
       "      <th>2</th>\n",
       "      <th>3</th>\n",
       "      <th>4</th>\n",
       "      <th>5</th>\n",
       "      <th>6</th>\n",
       "      <th>7</th>\n",
       "      <th>8</th>\n",
       "      <th>9</th>\n",
       "      <th>...</th>\n",
       "      <th>990</th>\n",
       "      <th>991</th>\n",
       "      <th>992</th>\n",
       "      <th>993</th>\n",
       "      <th>994</th>\n",
       "      <th>995</th>\n",
       "      <th>996</th>\n",
       "      <th>997</th>\n",
       "      <th>998</th>\n",
       "      <th>999</th>\n",
       "    </tr>\n",
       "  </thead>\n",
       "  <tbody>\n",
       "    <tr>\n",
       "      <th>95</th>\n",
       "      <td>1.0</td>\n",
       "      <td>1.0</td>\n",
       "      <td>1.0</td>\n",
       "      <td>1.0</td>\n",
       "      <td>1.0</td>\n",
       "      <td>1.0</td>\n",
       "      <td>1.0</td>\n",
       "      <td>1.0</td>\n",
       "      <td>1.0</td>\n",
       "      <td>1.0</td>\n",
       "      <td>...</td>\n",
       "      <td>0.9</td>\n",
       "      <td>1.0</td>\n",
       "      <td>1.0</td>\n",
       "      <td>1.0</td>\n",
       "      <td>0.954545</td>\n",
       "      <td>0.833333</td>\n",
       "      <td>1.0</td>\n",
       "      <td>1.0</td>\n",
       "      <td>1.0</td>\n",
       "      <td>1.0</td>\n",
       "    </tr>\n",
       "    <tr>\n",
       "      <th>96</th>\n",
       "      <td>1.0</td>\n",
       "      <td>1.0</td>\n",
       "      <td>1.0</td>\n",
       "      <td>1.0</td>\n",
       "      <td>1.0</td>\n",
       "      <td>1.0</td>\n",
       "      <td>1.0</td>\n",
       "      <td>1.0</td>\n",
       "      <td>1.0</td>\n",
       "      <td>1.0</td>\n",
       "      <td>...</td>\n",
       "      <td>1.0</td>\n",
       "      <td>1.0</td>\n",
       "      <td>1.0</td>\n",
       "      <td>1.0</td>\n",
       "      <td>0.952381</td>\n",
       "      <td>0.833333</td>\n",
       "      <td>1.0</td>\n",
       "      <td>1.0</td>\n",
       "      <td>1.0</td>\n",
       "      <td>1.0</td>\n",
       "    </tr>\n",
       "    <tr>\n",
       "      <th>97</th>\n",
       "      <td>1.0</td>\n",
       "      <td>1.0</td>\n",
       "      <td>1.0</td>\n",
       "      <td>1.0</td>\n",
       "      <td>1.0</td>\n",
       "      <td>1.0</td>\n",
       "      <td>1.0</td>\n",
       "      <td>1.0</td>\n",
       "      <td>1.0</td>\n",
       "      <td>1.0</td>\n",
       "      <td>...</td>\n",
       "      <td>1.0</td>\n",
       "      <td>1.0</td>\n",
       "      <td>1.0</td>\n",
       "      <td>1.0</td>\n",
       "      <td>1.000000</td>\n",
       "      <td>0.833333</td>\n",
       "      <td>1.0</td>\n",
       "      <td>1.0</td>\n",
       "      <td>1.0</td>\n",
       "      <td>1.0</td>\n",
       "    </tr>\n",
       "    <tr>\n",
       "      <th>98</th>\n",
       "      <td>1.0</td>\n",
       "      <td>1.0</td>\n",
       "      <td>1.0</td>\n",
       "      <td>1.0</td>\n",
       "      <td>1.0</td>\n",
       "      <td>1.0</td>\n",
       "      <td>1.0</td>\n",
       "      <td>1.0</td>\n",
       "      <td>1.0</td>\n",
       "      <td>1.0</td>\n",
       "      <td>...</td>\n",
       "      <td>1.0</td>\n",
       "      <td>1.0</td>\n",
       "      <td>1.0</td>\n",
       "      <td>1.0</td>\n",
       "      <td>1.000000</td>\n",
       "      <td>1.000000</td>\n",
       "      <td>1.0</td>\n",
       "      <td>1.0</td>\n",
       "      <td>1.0</td>\n",
       "      <td>1.0</td>\n",
       "    </tr>\n",
       "    <tr>\n",
       "      <th>99</th>\n",
       "      <td>0.0</td>\n",
       "      <td>0.0</td>\n",
       "      <td>0.0</td>\n",
       "      <td>0.0</td>\n",
       "      <td>0.0</td>\n",
       "      <td>0.0</td>\n",
       "      <td>0.0</td>\n",
       "      <td>0.0</td>\n",
       "      <td>0.0</td>\n",
       "      <td>0.0</td>\n",
       "      <td>...</td>\n",
       "      <td>0.0</td>\n",
       "      <td>0.0</td>\n",
       "      <td>0.0</td>\n",
       "      <td>0.0</td>\n",
       "      <td>0.000000</td>\n",
       "      <td>0.000000</td>\n",
       "      <td>0.0</td>\n",
       "      <td>0.0</td>\n",
       "      <td>0.0</td>\n",
       "      <td>0.0</td>\n",
       "    </tr>\n",
       "  </tbody>\n",
       "</table>\n",
       "<p>5 rows × 1000 columns</p>\n",
       "</div>"
      ],
      "text/plain": [
       "    0    1    2    3    4    5    6    7    8    9   ...   990  991  992  993  \\\n",
       "95  1.0  1.0  1.0  1.0  1.0  1.0  1.0  1.0  1.0  1.0 ...   0.9  1.0  1.0  1.0   \n",
       "96  1.0  1.0  1.0  1.0  1.0  1.0  1.0  1.0  1.0  1.0 ...   1.0  1.0  1.0  1.0   \n",
       "97  1.0  1.0  1.0  1.0  1.0  1.0  1.0  1.0  1.0  1.0 ...   1.0  1.0  1.0  1.0   \n",
       "98  1.0  1.0  1.0  1.0  1.0  1.0  1.0  1.0  1.0  1.0 ...   1.0  1.0  1.0  1.0   \n",
       "99  0.0  0.0  0.0  0.0  0.0  0.0  0.0  0.0  0.0  0.0 ...   0.0  0.0  0.0  0.0   \n",
       "\n",
       "         994       995  996  997  998  999  \n",
       "95  0.954545  0.833333  1.0  1.0  1.0  1.0  \n",
       "96  0.952381  0.833333  1.0  1.0  1.0  1.0  \n",
       "97  1.000000  0.833333  1.0  1.0  1.0  1.0  \n",
       "98  1.000000  1.000000  1.0  1.0  1.0  1.0  \n",
       "99  0.000000  0.000000  0.0  0.0  0.0  0.0  \n",
       "\n",
       "[5 rows x 1000 columns]"
      ]
     },
     "execution_count": 149,
     "metadata": {},
     "output_type": "execute_result"
    }
   ],
   "source": [
    "stats_prec.tail()"
   ]
  },
  {
   "cell_type": "code",
   "execution_count": 128,
   "metadata": {},
   "outputs": [
    {
     "data": {
      "text/plain": [
       "Text(0, 0.5, 'Number of bootstrapping runs')"
      ]
     },
     "execution_count": 128,
     "metadata": {},
     "output_type": "execute_result"
    },
    {
     "data": {
      "image/png": "[encoded data removed]",
      "text/plain": [
       "<Figure size 576x360 with 1 Axes>"
      ]
     },
     "metadata": {
      "needs_background": "light"
     },
     "output_type": "display_data"
    }
   ],
   "source": [
    "# Look at precision distribution for threshold = 0.5\n",
    "stats_prec.loc[50].hist(figsize=(8,5))\n",
    "plt.title('Precision at threshold 0.5 for 1000 boostraps', fontsize=16)\n",
    "plt.xlabel('Precision score', fontsize=12)\n",
    "plt.ylabel('Number of bootstrapping runs', fontsize=12)"
   ]
  },
  {
   "cell_type": "markdown",
   "metadata": {},
   "source": [
    "### Look at confidence intervals for precision"
   ]
  },
  {
   "cell_type": "code",
   "execution_count": 150,
   "metadata": {},
   "outputs": [],
   "source": [
    "stats_prec['conf_int_up'] = stats_prec.apply(lambda x: np.nanquantile(x, .975), axis=1)\n",
    "stats_prec['conf_int_down'] = stats_prec.apply(lambda x: np.nanquantile(x, .25), axis=1)\n",
    "stats_prec['mean'] = stats_prec[np.arange(0,sample_size)].mean(1)"
   ]
  },
  {
   "cell_type": "code",
   "execution_count": 151,
   "metadata": {},
   "outputs": [
    {
     "data": {
      "text/plain": [
       "(0, 1.1)"
      ]
     },
     "execution_count": 151,
     "metadata": {},
     "output_type": "execute_result"
    },
    {
     "data": {
      "image/png": "[encoded data removed]",
      "text/plain": [
       "<Figure size 576x360 with 1 Axes>"
      ]
     },
     "metadata": {
      "needs_background": "light"
     },
     "output_type": "display_data"
    }
   ],
   "source": [
    "stats_prec[['conf_int_up', 'mean', 'conf_int_down']].loc[0:98].plot(figsize=(8,5))\n",
    "plt.title('Precision for 1000 boostraps for different thresholds', fontsize=16)\n",
    "plt.xlabel('Threshold', fontsize=12)\n",
    "plt.ylabel('Precision', fontsize=12)\n",
    "plt.ylim(0,1.1)"
   ]
  },
  {
   "cell_type": "code",
   "execution_count": 152,
   "metadata": {},
   "outputs": [],
   "source": [
    "stats_rec = pd.DataFrame(recs).T"
   ]
  },
  {
   "cell_type": "code",
   "execution_count": 153,
   "metadata": {},
   "outputs": [],
   "source": [
    "stats_rec['conf_int_up'] = stats_rec.apply(lambda x: np.nanquantile(x, .975), axis=1)\n",
    "stats_rec['conf_int_down'] = stats_rec.apply(lambda x: np.nanquantile(x, .25), axis=1)\n",
    "stats_rec['mean'] = stats_rec[np.arange(0,sample_size)].mean(1)\n",
    "#stats_rec['stdev'] = stats_rec[np.arange(0,sample_size)].std(1)\n",
    "#stats_rec['stdev_up'] = stats_rec[np.arange(0,sample_size)].mean(1) + stats_rec[np.arange(0,sample_size)].std(1)\n",
    "#stats_rec['stdev_down'] = stats_rec[np.arange(0,sample_size)].mean(1) - stats_rec[np.arange(0,sample_size)].std(1)\n",
    "#stats_rec['conf_int_up2'] = stats_rec[np.arange(0,sample_size)].mean(1) + 1.96*stats_rec[np.arange(0,sample_size)].std(1)\n",
    "#stats_rec['conf_int_down2'] = stats_rec[np.arange(0,sample_size)].mean(1) - 1.96*stats_rec[np.arange(0,sample_size)].std(1)"
   ]
  },
  {
   "cell_type": "code",
   "execution_count": 154,
   "metadata": {},
   "outputs": [
    {
     "data": {
      "text/plain": [
       "<matplotlib.axes._subplots.AxesSubplot at 0x123828828>"
      ]
     },
     "execution_count": 154,
     "metadata": {},
     "output_type": "execute_result"
    },
    {
     "data": {
      "image/png": "[encoded data removed]",
      "text/plain": [
       "<Figure size 576x360 with 1 Axes>"
      ]
     },
     "metadata": {
      "needs_background": "light"
     },
     "output_type": "display_data"
    }
   ],
   "source": [
    "stats_rec[['conf_int_up', 'mean', 'conf_int_down']].loc[0:99].plot(figsize=(8,5))"
   ]
  },
  {
   "cell_type": "code",
   "execution_count": 177,
   "metadata": {},
   "outputs": [
    {
     "data": {
      "text/plain": [
       "(0.7, 1.03)"
      ]
     },
     "execution_count": 177,
     "metadata": {},
     "output_type": "execute_result"
    },
    {
     "data": {
      "image/png": "[encoded data removed]",
      "text/plain": [
       "<Figure size 432x288 with 1 Axes>"
      ]
     },
     "metadata": {
      "needs_background": "light"
     },
     "output_type": "display_data"
    }
   ],
   "source": [
    "#pd.melt(stats_prec.loc[1:98][np.arange(0,178)].reset_index().)#.plot(legend=False, figsize=(10,8))\n",
    "sns.lineplot(data=pd.melt(stats_prec.loc[0:98][np.arange(0,178)].reset_index()\\\n",
    "                    .rename(columns={'index': 'threshold'}), id_vars='threshold'), x='threshold', y='value', ci='sd')\n",
    "plt.ylim(0.7,1.03)"
   ]
  },
  {
   "cell_type": "code",
   "execution_count": 178,
   "metadata": {},
   "outputs": [
    {
     "data": {
      "text/plain": [
       "(0.7, 1.03)"
      ]
     },
     "execution_count": 178,
     "metadata": {},
     "output_type": "execute_result"
    },
    {
     "data": {
      "image/png": "[encoded data removed]",
      "text/plain": [
       "<Figure size 432x288 with 1 Axes>"
      ]
     },
     "metadata": {
      "needs_background": "light"
     },
     "output_type": "display_data"
    }
   ],
   "source": [
    "sns.lineplot(data=pd.melt(stats_rec.loc[0:99][np.arange(0,178)].reset_index()\\\n",
    "                    .rename(columns={'index': 'threshold'}), id_vars='threshold'), x='threshold', y='value', ci='sd')\n",
    "plt.ylim(0.7,1.03)"
   ]
  },
  {
   "cell_type": "markdown",
   "metadata": {},
   "source": [
    "## Do the same on a toy dataset with a RANDOM CLASSIFIER"
   ]
  },
  {
   "cell_type": "markdown",
   "metadata": {},
   "source": [
    "### Create labels\n",
    "#### Assume equal class distribution (500 positive, 500 negatives)"
   ]
  },
  {
   "cell_type": "code",
   "execution_count": 63,
   "metadata": {},
   "outputs": [],
   "source": [
    "true_labels =  np.random.choice(np.concatenate([np.repeat(0,500),np.repeat(1,500)]), 1000, replace=False)"
   ]
  },
  {
   "cell_type": "markdown",
   "metadata": {},
   "source": [
    "### Sample labels"
   ]
  },
  {
   "cell_type": "code",
   "execution_count": 69,
   "metadata": {},
   "outputs": [],
   "source": [
    "preds=[]\n",
    "for i in np.arange(0,500):\n",
    "    preds.append(np.random.randint(0,101,size=1000)/100)"
   ]
  },
  {
   "cell_type": "code",
   "execution_count": 65,
   "metadata": {},
   "outputs": [],
   "source": [
    "precs=[]\n",
    "recs=[]\n",
    "for pred in preds:\n",
    "    recs_temp=[]\n",
    "    precs_temp=[]\n",
    "    for thresh in np.linspace(0,1,100):\n",
    "        precs_temp.append(precision_score(true_labels, (pred>=thresh).astype(int)))\n",
    "        recs_temp.append(recall_score(true_labels, (pred>=thresh).astype(int)))\n",
    "    precs.append(precs_temp)\n",
    "    recs.append(recs_temp)"
   ]
  },
  {
   "cell_type": "code",
   "execution_count": 70,
   "metadata": {},
   "outputs": [
    {
     "data": {
      "text/plain": [
       "(array([ 93.,  99., 119.,  86., 113., 110., 112.,  77.,  82., 109.]),\n",
       " array([0. , 0.1, 0.2, 0.3, 0.4, 0.5, 0.6, 0.7, 0.8, 0.9, 1. ]),\n",
       " <a list of 10 Patch objects>)"
      ]
     },
     "execution_count": 70,
     "metadata": {},
     "output_type": "execute_result"
    },
    {
     "data": {
      "image/png": "[encoded data removed]",
      "text/plain": [
       "<Figure size 432x288 with 1 Axes>"
      ]
     },
     "metadata": {
      "needs_background": "light"
     },
     "output_type": "display_data"
    }
   ],
   "source": [
    "plt.hist(preds[0])"
   ]
  },
  {
   "cell_type": "code",
   "execution_count": 66,
   "metadata": {},
   "outputs": [],
   "source": [
    "df_precs2 = pd.DataFrame(precs).T.reset_index().rename(columns={'index': 'threshold'})"
   ]
  },
  {
   "cell_type": "markdown",
   "metadata": {},
   "source": [
    "##### For a random classifier, the precision is first always equal to the class distribution (more precisely to the proportion of positive samples in the data set) and then, the less samples you select for evaluation, the more it wobbles cause the distribution changes"
   ]
  },
  {
   "cell_type": "markdown",
   "metadata": {},
   "source": [
    "### !!!! *** the precision is first equal to the proportion of positive samples in the data set***: This is dangerous, when the positive class is overly represented!"
   ]
  },
  {
   "cell_type": "code",
   "execution_count": 67,
   "metadata": {},
   "outputs": [
    {
     "data": {
      "text/plain": [
       "(0, 1)"
      ]
     },
     "execution_count": 67,
     "metadata": {},
     "output_type": "execute_result"
    },
    {
     "data": {
      "image/png": "[encoded data removed]",
      "text/plain": [
       "<Figure size 432x288 with 1 Axes>"
      ]
     },
     "metadata": {
      "needs_background": "light"
     },
     "output_type": "display_data"
    }
   ],
   "source": [
    "sns.lineplot(data=pd.melt(df_precs2, id_vars='threshold'), x='threshold', y='value', ci='sd')\n",
    "plt.ylim(0,1)"
   ]
  },
  {
   "cell_type": "markdown",
   "metadata": {},
   "source": [
    "##### For a random classifier, the recall wobble most at medium thresholds , for higher threshold, TP and FN decrease"
   ]
  },
  {
   "cell_type": "code",
   "execution_count": 54,
   "metadata": {},
   "outputs": [
    {
     "data": {
      "text/plain": [
       "<matplotlib.axes._subplots.AxesSubplot at 0x124a7a128>"
      ]
     },
     "execution_count": 54,
     "metadata": {},
     "output_type": "execute_result"
    },
    {
     "data": {
      "image/png": "[encoded data removed]",
      "text/plain": [
       "<Figure size 432x288 with 1 Axes>"
      ]
     },
     "metadata": {
      "needs_background": "light"
     },
     "output_type": "display_data"
    }
   ],
   "source": [
    "sns.lineplot(data=pd.melt(pd.DataFrame(recs).T.reset_index().rename(columns={'index': 'threshold'}),\n",
    "                          id_vars='threshold'), x='threshold', y='value', ci='sd')"
   ]
  },
  {
   "cell_type": "code",
   "execution_count": null,
   "metadata": {},
   "outputs": [],
   "source": []
  },
  {
   "cell_type": "code",
   "execution_count": null,
   "metadata": {},
   "outputs": [],
   "source": []
  },
  {
   "cell_type": "markdown",
   "metadata": {},
   "source": [
    "### Create labels\n",
    "#### Assume equal class distribution (150 positive, 850 negatives)"
   ]
  },
  {
   "cell_type": "code",
   "execution_count": 55,
   "metadata": {},
   "outputs": [],
   "source": [
    "true_labels =  np.random.choice(np.concatenate([np.repeat(0,850),np.repeat(1,150)]), 1000, replace=False)"
   ]
  },
  {
   "cell_type": "markdown",
   "metadata": {},
   "source": [
    "### Sample labels"
   ]
  },
  {
   "cell_type": "code",
   "execution_count": 56,
   "metadata": {},
   "outputs": [],
   "source": [
    "preds=[]\n",
    "for i in np.arange(0,500):\n",
    "    preds.append(np.random.randint(0,101,size=1000)/100)"
   ]
  },
  {
   "cell_type": "code",
   "execution_count": 57,
   "metadata": {},
   "outputs": [],
   "source": [
    "precs=[]\n",
    "recs=[]\n",
    "for pred in preds:\n",
    "    recs_temp=[]\n",
    "    precs_temp=[]\n",
    "    for thresh in np.linspace(0,1,100):\n",
    "        precs_temp.append(precision_score(true_labels, (pred>=thresh).astype(int)))\n",
    "        recs_temp.append(recall_score(true_labels, (pred>=thresh).astype(int)))\n",
    "    precs.append(precs_temp)\n",
    "    recs.append(recs_temp)"
   ]
  },
  {
   "cell_type": "code",
   "execution_count": 58,
   "metadata": {},
   "outputs": [],
   "source": [
    "df_precs2 = pd.DataFrame(precs).T.reset_index().rename(columns={'index': 'threshold'})"
   ]
  },
  {
   "cell_type": "markdown",
   "metadata": {},
   "source": [
    "##### For a random classifier, the precision is first always equal to the class distribution (more precisely to the proportion of positive samples in the data set) and then, the less samples you select for evaluation, the more it wobbles cause the distribution changes"
   ]
  },
  {
   "cell_type": "markdown",
   "metadata": {},
   "source": [
    "### !!!! *** the precision is first equal to the proportion of positive samples in the data set***: This is dangerous, when the positive class is overly represented!"
   ]
  },
  {
   "cell_type": "code",
   "execution_count": 61,
   "metadata": {},
   "outputs": [
    {
     "data": {
      "text/plain": [
       "(0, 1)"
      ]
     },
     "execution_count": 61,
     "metadata": {},
     "output_type": "execute_result"
    },
    {
     "data": {
      "image/png": "[encoded data removed]",
      "text/plain": [
       "<Figure size 432x288 with 1 Axes>"
      ]
     },
     "metadata": {
      "needs_background": "light"
     },
     "output_type": "display_data"
    }
   ],
   "source": [
    "sns.lineplot(data=pd.melt(df_precs2, id_vars='threshold'), x='threshold', y='value', ci='sd')\n",
    "plt.ylim(0,1)"
   ]
  },
  {
   "cell_type": "markdown",
   "metadata": {},
   "source": [
    "##### For a random classifier, the recall wobble most at medium thresholds , for higher threshold, TP and FN decrease"
   ]
  },
  {
   "cell_type": "code",
   "execution_count": 60,
   "metadata": {},
   "outputs": [
    {
     "data": {
      "text/plain": [
       "<matplotlib.axes._subplots.AxesSubplot at 0x12462ab70>"
      ]
     },
     "execution_count": 60,
     "metadata": {},
     "output_type": "execute_result"
    },
    {
     "data": {
      "image/png": "[encoded data removed]",
      "text/plain": [
       "<Figure size 432x288 with 1 Axes>"
      ]
     },
     "metadata": {
      "needs_background": "light"
     },
     "output_type": "display_data"
    }
   ],
   "source": [
    "sns.lineplot(data=pd.melt(pd.DataFrame(recs).T.reset_index().rename(columns={'index': 'threshold'}), id_vars='threshold'), x='threshold', y='value', ci='sd')"
   ]
  }
 ],
 "metadata": {
  "kernelspec": {
   "display_name": "Python 3",
   "language": "python",
   "name": "python3"
  },
  "language_info": {
   "codemirror_mode": {
    "name": "ipython",
    "version": 3
   },
   "file_extension": ".py",
   "mimetype": "text/x-python",
   "name": "python",
   "nbconvert_exporter": "python",
   "pygments_lexer": "ipython3",
   "version": "3.6.1"
  }
 },
 "nbformat": 4,
 "nbformat_minor": 2
}
